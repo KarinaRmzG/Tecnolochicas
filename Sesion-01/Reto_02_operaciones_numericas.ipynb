{
  "cells": [
    {
      "cell_type": "markdown",
      "metadata": {
        "id": "view-in-github",
        "colab_type": "text"
      },
      "source": [
        "<a href=\"https://colab.research.google.com/github/KarinaRmzG/Tecnolochicas/blob/main/Reto_02_operaciones_numericas.ipynb\" target=\"_parent\"><img src=\"https://colab.research.google.com/assets/colab-badge.svg\" alt=\"Open In Colab\"/></a>"
      ]
    },
    {
      "cell_type": "markdown",
      "metadata": {
        "id": "0rDHvO7SrV_z"
      },
      "source": [
        "## Reto 2: Operaciones numéricas\n",
        "\n",
        "### 1. Objetivos:\n",
        "    - Practicar asignación de variables y operaciones aritméticas en Python\n",
        "\n",
        "---\n",
        "    \n",
        "### 2. Desarrollo:"
      ]
    },
    {
      "cell_type": "markdown",
      "metadata": {
        "id": "NT3pTchWrV_3"
      },
      "source": [
        "#### 1. Asignación de los números correctos\n",
        "\n",
        "A continuación, verás unas variables que tienen nombre pero que todavía no tienen ningún valor asignado:"
      ]
    },
    {
      "cell_type": "code",
      "execution_count": 7,
      "metadata": {
        "id": "bUnK3Z4BrV_4"
      },
      "outputs": [],
      "source": [
        "# Kary :)\n",
        "var_1 = 6\n",
        "\n",
        "var_2 = 8\n",
        "\n",
        "var_3 = 4\n",
        "\n",
        "var_4 = 16\n",
        "\n",
        "var_5 = 4"
      ]
    },
    {
      "cell_type": "markdown",
      "metadata": {
        "id": "mpcfOjdOrV_5"
      },
      "source": [
        "Ahora, tenemos debajo operaciones aritméticas que se han realizado con estas variables, junto a los resultados numéricos que esperamos obtener de estas operaciones:"
      ]
    },
    {
      "cell_type": "code",
      "execution_count": 2,
      "metadata": {
        "id": "7_UOnerIrV_6",
        "colab": {
          "base_uri": "https://localhost:8080/"
        },
        "outputId": "1e869eed-ebec-4d18-8eb3-f527c47a06e0"
      },
      "outputs": [
        {
          "output_type": "execute_result",
          "data": {
            "text/plain": [
              "14"
            ]
          },
          "metadata": {},
          "execution_count": 2
        }
      ],
      "source": [
        "var_1 + var_2  # Resultado esperado: 14"
      ]
    },
    {
      "cell_type": "code",
      "execution_count": 3,
      "metadata": {
        "id": "Nl3pL9IRrV_6",
        "colab": {
          "base_uri": "https://localhost:8080/"
        },
        "outputId": "390eb804-782c-4e5a-ad1e-95157f587e4b"
      },
      "outputs": [
        {
          "output_type": "execute_result",
          "data": {
            "text/plain": [
              "-4"
            ]
          },
          "metadata": {},
          "execution_count": 3
        }
      ],
      "source": [
        "var_3 - var_2  # Resultado esperado: -4"
      ]
    },
    {
      "cell_type": "code",
      "execution_count": 4,
      "metadata": {
        "id": "sUGot8i5rV_6",
        "colab": {
          "base_uri": "https://localhost:8080/"
        },
        "outputId": "0c89d4c7-e3cc-4f3c-a32e-1140c829493a"
      },
      "outputs": [
        {
          "output_type": "execute_result",
          "data": {
            "text/plain": [
              "24"
            ]
          },
          "metadata": {},
          "execution_count": 4
        }
      ],
      "source": [
        "var_3 * var_1  # Resultado esperado: 24"
      ]
    },
    {
      "cell_type": "code",
      "execution_count": 5,
      "metadata": {
        "id": "o9McALSUrV_7",
        "colab": {
          "base_uri": "https://localhost:8080/"
        },
        "outputId": "f0c11ba0-ef2a-455c-ec2e-cdf707d55970"
      },
      "outputs": [
        {
          "output_type": "execute_result",
          "data": {
            "text/plain": [
              "8"
            ]
          },
          "metadata": {},
          "execution_count": 5
        }
      ],
      "source": [
        "var_5 + var_3  # Resultado esperado: 8"
      ]
    },
    {
      "cell_type": "code",
      "execution_count": 6,
      "metadata": {
        "id": "LQgcdkobrV_7",
        "colab": {
          "base_uri": "https://localhost:8080/"
        },
        "outputId": "68245e33-d7cb-4762-cd44-60472d15a64e"
      },
      "outputs": [
        {
          "output_type": "execute_result",
          "data": {
            "text/plain": [
              "4.0"
            ]
          },
          "metadata": {},
          "execution_count": 6
        }
      ],
      "source": [
        "var_4 / var_5  # Resultado esperado: 4"
      ]
    },
    {
      "cell_type": "markdown",
      "metadata": {
        "id": "5w0h-icqrV_8"
      },
      "source": [
        "El reto es asignar los números correctos a las variables de arriba de manera que al correr las celdas que contienen operaciones numéricas obtengamos los `Resultados esperados`.\n",
        "\n",
        ">*Tip*: Todos los números son pares"
      ]
    },
    {
      "cell_type": "markdown",
      "metadata": {
        "id": "7iNBKyemrV_8"
      },
      "source": [
        "<details><summary>Solución</summary>\n",
        "\n",
        "```python\n",
        "var_1 = 4\n",
        "\n",
        "var_2 = 10\n",
        "\n",
        "var_3 = 6\n",
        "\n",
        "var_4 = 8\n",
        "\n",
        "var_5 = 2\n",
        "```\n",
        "    \n",
        "</details>"
      ]
    },
    {
      "cell_type": "code",
      "execution_count": null,
      "metadata": {
        "id": "uZGd8S-qrV_8"
      },
      "outputs": [],
      "source": []
    }
  ],
  "metadata": {
    "kernelspec": {
      "display_name": "Python (data_science)",
      "language": "python",
      "name": "data_science"
    },
    "language_info": {
      "codemirror_mode": {
        "name": "ipython",
        "version": 3
      },
      "file_extension": ".py",
      "mimetype": "text/x-python",
      "name": "python",
      "nbconvert_exporter": "python",
      "pygments_lexer": "ipython3",
      "version": "3.8.5"
    },
    "colab": {
      "provenance": [],
      "include_colab_link": true
    }
  },
  "nbformat": 4,
  "nbformat_minor": 0
}